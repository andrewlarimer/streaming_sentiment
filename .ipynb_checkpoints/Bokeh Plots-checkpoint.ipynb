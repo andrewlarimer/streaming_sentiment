{
 "cells": [
  {
   "cell_type": "code",
   "execution_count": 79,
   "metadata": {},
   "outputs": [],
   "source": [
    "from bokeh.plotting import figure, output_file, show\n",
    "from bokeh.models import Span\n",
    "import pandas as pd"
   ]
  },
  {
   "cell_type": "code",
   "execution_count": 203,
   "metadata": {},
   "outputs": [
    {
     "data": {
      "text/html": [
       "<div>\n",
       "<style scoped>\n",
       "    .dataframe tbody tr th:only-of-type {\n",
       "        vertical-align: middle;\n",
       "    }\n",
       "\n",
       "    .dataframe tbody tr th {\n",
       "        vertical-align: top;\n",
       "    }\n",
       "\n",
       "    .dataframe thead th {\n",
       "        text-align: right;\n",
       "    }\n",
       "</style>\n",
       "<table border=\"1\" class=\"dataframe\">\n",
       "  <thead>\n",
       "    <tr style=\"text-align: right;\">\n",
       "      <th></th>\n",
       "      <th>interval_start</th>\n",
       "      <th>entity</th>\n",
       "      <th>low_senti</th>\n",
       "      <th>avg_senti</th>\n",
       "      <th>high_senti</th>\n",
       "      <th>num_datapoints</th>\n",
       "      <th>minutes_since_start</th>\n",
       "      <th>est</th>\n",
       "    </tr>\n",
       "  </thead>\n",
       "  <tbody>\n",
       "    <tr>\n",
       "      <th>0</th>\n",
       "      <td>2019-05-20 00:35:00</td>\n",
       "      <td>Daenerys</td>\n",
       "      <td>-0.4199</td>\n",
       "      <td>0.090</td>\n",
       "      <td>0.5994</td>\n",
       "      <td>2</td>\n",
       "      <td>0.0</td>\n",
       "      <td>2019-05-19 20:35:00-04:00</td>\n",
       "    </tr>\n",
       "    <tr>\n",
       "      <th>1</th>\n",
       "      <td>2019-05-20 00:35:00</td>\n",
       "      <td>Game of Thrones</td>\n",
       "      <td>-0.4019</td>\n",
       "      <td>-0.402</td>\n",
       "      <td>-0.4019</td>\n",
       "      <td>1</td>\n",
       "      <td>0.0</td>\n",
       "      <td>2019-05-19 20:35:00-04:00</td>\n",
       "    </tr>\n",
       "    <tr>\n",
       "      <th>2</th>\n",
       "      <td>2019-05-20 00:35:00</td>\n",
       "      <td>Drogon</td>\n",
       "      <td>-0.8481</td>\n",
       "      <td>-0.848</td>\n",
       "      <td>-0.8481</td>\n",
       "      <td>1</td>\n",
       "      <td>0.0</td>\n",
       "      <td>2019-05-19 20:35:00-04:00</td>\n",
       "    </tr>\n",
       "    <tr>\n",
       "      <th>3</th>\n",
       "      <td>2019-05-20 00:35:00</td>\n",
       "      <td>Game of Thrones</td>\n",
       "      <td>-0.4767</td>\n",
       "      <td>0.103</td>\n",
       "      <td>0.6570</td>\n",
       "      <td>3</td>\n",
       "      <td>0.0</td>\n",
       "      <td>2019-05-19 20:35:00-04:00</td>\n",
       "    </tr>\n",
       "    <tr>\n",
       "      <th>4</th>\n",
       "      <td>2019-05-20 00:35:00</td>\n",
       "      <td>Jon Snow</td>\n",
       "      <td>0.4404</td>\n",
       "      <td>0.440</td>\n",
       "      <td>0.4404</td>\n",
       "      <td>1</td>\n",
       "      <td>0.0</td>\n",
       "      <td>2019-05-19 20:35:00-04:00</td>\n",
       "    </tr>\n",
       "  </tbody>\n",
       "</table>\n",
       "</div>"
      ],
      "text/plain": [
       "       interval_start           entity  low_senti  avg_senti  high_senti  \\\n",
       "0 2019-05-20 00:35:00         Daenerys    -0.4199      0.090      0.5994   \n",
       "1 2019-05-20 00:35:00  Game of Thrones    -0.4019     -0.402     -0.4019   \n",
       "2 2019-05-20 00:35:00           Drogon    -0.8481     -0.848     -0.8481   \n",
       "3 2019-05-20 00:35:00  Game of Thrones    -0.4767      0.103      0.6570   \n",
       "4 2019-05-20 00:35:00         Jon Snow     0.4404      0.440      0.4404   \n",
       "\n",
       "   num_datapoints  minutes_since_start                       est  \n",
       "0               2                  0.0 2019-05-19 20:35:00-04:00  \n",
       "1               1                  0.0 2019-05-19 20:35:00-04:00  \n",
       "2               1                  0.0 2019-05-19 20:35:00-04:00  \n",
       "3               3                  0.0 2019-05-19 20:35:00-04:00  \n",
       "4               1                  0.0 2019-05-19 20:35:00-04:00  "
      ]
     },
     "execution_count": 203,
     "metadata": {},
     "output_type": "execute_result"
    }
   ],
   "source": [
    "got_senti = pd.read_csv('results/got_sentiment_noon_to_3am.csv', parse_dates=[\"interval_start\"],\n",
    "                        date_parser=lambda x: pd.to_datetime(x, format=\"%Y-%m-%d %H:%M:%S %Z\"))\n",
    "\n",
    "got_senti['minutes_since_start'] = (got_senti['interval_start'] - got_senti.loc[0,'interval_start']).astype('timedelta64[m]')\n",
    "\n",
    "got_senti['est'] = pd.DatetimeIndex(got_senti['interval_start']).tz_localize('UTC').tz_convert('US/Eastern')\n",
    "\n",
    "got_senti.head()"
   ]
  },
  {
   "cell_type": "code",
   "execution_count": 204,
   "metadata": {},
   "outputs": [
    {
     "data": {
      "text/plain": [
       "Game of Thrones       511\n",
       "Daenerys              508\n",
       "Jon Snow              507\n",
       "Arya                  506\n",
       "Jaime                 505\n",
       "Sansa                 505\n",
       "Cersei                504\n",
       "Drogon                504\n",
       "Tyrion                504\n",
       "Bran                  504\n",
       "Brienne               491\n",
       "Winterfell            490\n",
       "Tormund               467\n",
       "Bronn                 457\n",
       "Gendry                437\n",
       "George R.R. Martin    430\n",
       "Ser Davos             428\n",
       "Varys                 403\n",
       "Missandei             352\n",
       "Theon                 193\n",
       "Gilly                 111\n",
       "Cleganebowl            24\n",
       "Name: entity, dtype: int64"
      ]
     },
     "execution_count": 204,
     "metadata": {},
     "output_type": "execute_result"
    }
   ],
   "source": [
    "got_senti['entity'].value_counts()"
   ]
  },
  {
   "cell_type": "code",
   "execution_count": 205,
   "metadata": {},
   "outputs": [],
   "source": [
    "entities = ['Tyrion', 'Sansa', 'Daenerys', 'Varys', 'Jon Snow', 'Arya', 'Bran',\n",
    " 'Drogon', 'Bronn', 'Gendry', 'Brienne', 'Tormund', 'Gilly', 'Cersei', 'Jaime',\n",
    "            'Missandei', 'George R.R. Martin', 'Game of Thrones', 'Theon', 'Ser Davos',\n",
    "            'Winterfell']\n",
    "\n",
    "#Screwed up\n",
    "#'Grey Worm', 'The Hound', 'Sam','King\\'s Landing', 'Cleganebowl'"
   ]
  },
  {
   "cell_type": "code",
   "execution_count": 206,
   "metadata": {},
   "outputs": [
    {
     "data": {
      "text/plain": [
       "interval_start                     datetime64[ns]\n",
       "entity                                     object\n",
       "low_senti                                 float64\n",
       "avg_senti                                 float64\n",
       "high_senti                                float64\n",
       "num_datapoints                              int64\n",
       "minutes_since_start                       float64\n",
       "est                    datetime64[ns, US/Eastern]\n",
       "dtype: object"
      ]
     },
     "execution_count": 206,
     "metadata": {},
     "output_type": "execute_result"
    }
   ],
   "source": [
    "got_senti.dtypes"
   ]
  },
  {
   "cell_type": "code",
   "execution_count": 216,
   "metadata": {},
   "outputs": [],
   "source": [
    "from bokeh.layouts import gridplot\n",
    "from bokeh.models import ColumnDataSource, CDSView, GroupFilter, FuncTickFormatter\n",
    "from bokeh.plotting import figure, show, output_file\n",
    "from bokeh.io import export_svgs\n",
    "\n",
    "import colorcet as cc\n",
    "\n",
    "import numpy as np\n",
    "\n",
    "output_file(\"got_results.html\")\n",
    "\n",
    "got_palette = cc.glasbey_dark[:30]\n",
    "\n",
    "source = ColumnDataSource(got_senti)\n",
    "\n",
    "plot_size_and_tools = {'plot_height': 300, 'plot_width': 400,\n",
    "                        'tools':['box_select', 'reset', 'help']}\n",
    "\n",
    "p1 = figure(title=\"All Data\", x_axis_type='datetime',\n",
    "            x_range=(got_senti.loc[0,'est'], got_senti.loc[0,'est'] + pd.to_timedelta(6,'h')),\n",
    "            **plot_size_and_tools)\n",
    "\n",
    "js_formatter = FuncTickFormatter(code=\"\"\"\n",
    "    var utc_time = new Date(tick)\n",
    "    var suffix = \"AM\"\n",
    "    mil_time = utc_time.getHours() - 5\n",
    "    if (mil_time < 0) {\n",
    "        mil_time = mil_time + 12\n",
    "        suffix = \"PM\"}\n",
    "    if (mil_time == 0) {\n",
    "        mil_time = 12\n",
    "    }\n",
    "    return mil_time + suffix;\n",
    "\"\"\")\n",
    "\n",
    "# Let's start with all the data\n",
    "\n",
    "p1.xaxis.formatter = js_formatter\n",
    "p1.xaxis.major_label_text_font_size=\"12pt\"\n",
    "p1.yaxis.major_label_text_font_size=\"12pt\"\n",
    "p1.title.text_font_size=\"18pt\"\n",
    "\n",
    "p1.circle(x='est', y='avg_senti', source=source, color='black', alpha=0.2, size=8)\n",
    "\n",
    "episode_start = Span(location=pd.to_datetime(\"2019-05-20 02:00:00 UTC\", format=\"%Y-%m-%d %H:%M:%S %Z\"),\n",
    "                      dimension='height', line_color=got_palette[-1],\n",
    "                      line_dash='dashed', line_width=2)\n",
    "episode_end = Span(location=pd.to_datetime(\"2019-05-20 03:20:00 UTC\", format=\"%Y-%m-%d %H:%M:%S %Z\"),\n",
    "                      dimension='height', line_color=got_palette[-2],\n",
    "                      line_dash='dashed', line_width=2)\n",
    "\n",
    "p1.add_layout(episode_start)\n",
    "p1.add_layout(episode_end)\n",
    "\n",
    "#p1.background_fill_color = \"cornsilk\"\n",
    "p1.toolbar.logo = None\n",
    "p1.toolbar_location = None\n",
    "\n",
    "# p1.background_fill_alpha = 0.4\n",
    "\n",
    "# p1.output_backend = \"svg\"\n",
    "# export_svgs(p1, \"plots/overall.svg\")\n",
    "\n",
    "export_png(p1, \"plots/All_Data.png\",height=400, width=600)\n",
    "\n",
    "# Now the rest\n",
    "got_views = dict()\n",
    "got_plots = dict()\n",
    "\n",
    "for idx, entity in enumerate(entities):\n",
    "    \n",
    "    par = np.polyfit(got_senti['minutes_since_start'], got_senti['avg_senti'], 1, full=True)\n",
    "    slope=par[0][0]\n",
    "    intercept=par[0][1]\n",
    "    got_senti['y_predicted'] = intercept + slope * got_senti['minutes_since_start']\n",
    "    \n",
    "    source = ColumnDataSource(got_senti)\n",
    "\n",
    "    got_views[entity] = CDSView(source=source, filters=[GroupFilter(column_name='entity', group=entity)])\n",
    "\n",
    "    got_plots[entity] = figure(title=f\"{entity}\", x_axis_type='datetime', x_range=p1.x_range, y_range=(-1,1), **plot_size_and_tools)\n",
    "    \n",
    "#    got_plots[entity].background_fill_color = \"cornsilk\"\n",
    "#     got_plots[entity].background_fill_alpha = 0.4\n",
    "    got_plots[entity].xaxis.formatter = js_formatter\n",
    "#    got_plots[entity].ygrid.grid_line_color = \"goldenrod\"\n",
    "    got_plots[entity].ygrid.grid_line_alpha = 0.2\n",
    "    got_plots[entity].xgrid.grid_line_color = None\n",
    "    got_plots[entity].xaxis.major_label_text_font_size=\"12pt\"\n",
    "    got_plots[entity].yaxis.major_label_text_font_size=\"12pt\"\n",
    "    got_plots[entity].title.text_font_size=\"18pt\"\n",
    "    got_plots[entity].toolbar.logo = None\n",
    "    got_plots[entity].toolbar_location = None\n",
    "    \n",
    "    got_plots[entity].circle(x='est', y='avg_senti', source=source, view=got_views[entity], color=got_palette[idx], alpha=0.2, size=8)\n",
    "    \n",
    "    got_plots[entity].line(x='est', y='y_predicted', source=source, line_width=2, view=got_views[entity], color=got_palette[idx]) \n",
    "\n",
    "    episode_start = Span(location=pd.to_datetime(\"2019-05-20 02:00:00 UTC\", format=\"%Y-%m-%d %H:%M:%S %Z\"),\n",
    "                          dimension='height', line_color=got_palette[-1],\n",
    "                          line_dash='dashed', line_width=2)\n",
    "    episode_end = Span(location=pd.to_datetime(\"2019-05-20 03:20:00 UTC\", format=\"%Y-%m-%d %H:%M:%S %Z\"),\n",
    "                          dimension='height', line_color=got_palette[-2],\n",
    "                          line_dash='dashed', line_width=2)\n",
    "    \n",
    "    got_plots[entity].add_layout(episode_start)\n",
    "    got_plots[entity].add_layout(episode_end) \n",
    "    \n",
    "#     got_plots[entity].output_backend = \"svg\"\n",
    "#     export_svgs(got_plots[entity], f\"plots/{entity}.svg\")\n",
    "\n",
    "    export_png(got_plots[entity], f\"plots/{entity}.png\", height=400, width=600)\n",
    "    \n",
    "# show(gridplot([[p1] + [got_plots[ent] for ent in entities[0:3]],\n",
    "#                [got_plots[ent] for ent in entities[3:7]],\n",
    "#                [got_plots[ent] for ent in entities[7:11]],\n",
    "#                [got_plots[ent] for ent in entities[11:15]],\n",
    "#                [got_plots[ent] for ent in entities[15:19]],\n",
    "#                [got_plots[ent] for ent in entities[19:23]],\n",
    "#                [got_plots[ent] for ent in entities[23:]],\n",
    "#                ]))"
   ]
  },
  {
   "cell_type": "markdown",
   "metadata": {},
   "source": [
    "### VADER Scratch area"
   ]
  },
  {
   "cell_type": "code",
   "execution_count": 169,
   "metadata": {},
   "outputs": [],
   "source": [
    "from vaderSentiment.vaderSentiment import SentimentIntensityAnalyzer"
   ]
  },
  {
   "cell_type": "code",
   "execution_count": 170,
   "metadata": {},
   "outputs": [],
   "source": [
    "analyzer = SentimentIntensityAnalyzer()"
   ]
  },
  {
   "cell_type": "code",
   "execution_count": 219,
   "metadata": {},
   "outputs": [
    {
     "data": {
      "text/plain": [
       "{'neg': 0.142, 'neu': 0.528, 'pos': 0.331, 'compound': 0.9021}"
      ]
     },
     "execution_count": 219,
     "metadata": {},
     "output_type": "execute_result"
    }
   ],
   "source": [
    "TEST_TEXT = \"tie for some positivity! i'm grateful that: - sansa is still alive & thriving - cersei wasn't murdered by her lover - gilly is pregnant - tormund finally realized brienne doesn't like him - brienne's a knight - ghost didn't participate in dany's war - arya's having a good season\"\n",
    "\n",
    "analyzer.polarity_scores(TEST_TEXT)"
   ]
  },
  {
   "cell_type": "code",
   "execution_count": null,
   "metadata": {},
   "outputs": [],
   "source": [
    "-0.57"
   ]
  }
 ],
 "metadata": {
  "kernelspec": {
   "display_name": "Python 3",
   "language": "python",
   "name": "python3"
  },
  "language_info": {
   "codemirror_mode": {
    "name": "ipython",
    "version": 3
   },
   "file_extension": ".py",
   "mimetype": "text/x-python",
   "name": "python",
   "nbconvert_exporter": "python",
   "pygments_lexer": "ipython3",
   "version": "3.7.1"
  }
 },
 "nbformat": 4,
 "nbformat_minor": 2
}
